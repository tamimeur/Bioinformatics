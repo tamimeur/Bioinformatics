{
 "cells": [
  {
   "cell_type": "code",
   "execution_count": 24,
   "metadata": {
    "collapsed": false
   },
   "outputs": [],
   "source": [
    "import time\n",
    "import numpy as np\n",
    "from matplotlib import pyplot as plt\n",
    "from keras.utils import np_utils\n",
    "import keras.callbacks as cb\n",
    "from keras.models import Sequential\n",
    "from keras.layers.core import Dense, Dropout, Activation, Flatten\n",
    "from keras.optimizers import RMSprop, SGD, Adam, Nadam\n",
    "from keras.datasets import mnist\n",
    "from keras.layers import Merge\n",
    "from keras.regularizers import l1, l2, activity_l2\n",
    "from keras.layers.convolutional import Convolution1D, MaxPooling1D\n",
    "import random\n",
    "import pandas as pd\n",
    "from sklearn.cross_validation import train_test_split\n",
    "from sklearn import preprocessing\n",
    "from sklearn.decomposition import PCA\n",
    "import scipy.stats as stats\n",
    "import seaborn as sea\n",
    "import plotly.plotly as py"
   ]
  },
  {
   "cell_type": "code",
   "execution_count": 25,
   "metadata": {
    "collapsed": false
   },
   "outputs": [
    {
     "data": {
      "text/html": [
       "<div>\n",
       "<table border=\"1\" class=\"dataframe\">\n",
       "  <thead>\n",
       "    <tr style=\"text-align: right;\">\n",
       "      <th></th>\n",
       "      <th>name</th>\n",
       "      <th>sequence</th>\n",
       "      <th>full_sequence</th>\n",
       "      <th>ec50_t</th>\n",
       "      <th>ec50_95ci_t</th>\n",
       "      <th>ec50_95ci_lbound_t</th>\n",
       "      <th>ec50_95ci_ubound_t</th>\n",
       "      <th>ec50_c</th>\n",
       "      <th>ec50_95ci_c</th>\n",
       "      <th>ec50_95ci_lbound_c</th>\n",
       "      <th>ec50_95ci_ubound_c</th>\n",
       "      <th>ec50_pred_t</th>\n",
       "      <th>ec50_pred_c</th>\n",
       "      <th>ec50_rise_t</th>\n",
       "      <th>ec50_rise_t.1</th>\n",
       "      <th>min_ec50_rise</th>\n",
       "      <th>max_ec50_95ci</th>\n",
       "    </tr>\n",
       "  </thead>\n",
       "  <tbody>\n",
       "    <tr>\n",
       "      <th>0</th>\n",
       "      <td>EEHEE_0001.pdb</td>\n",
       "      <td>GSQEVNSGTQTYKNASPEEAERIARKAGATTWTEKGNKWEIRI</td>\n",
       "      <td>GGGSASHMGSQEVNSGTQTYKNASPEEAERIARKAGATTWTEKGNK...</td>\n",
       "      <td>1.902499</td>\n",
       "      <td>0.2</td>\n",
       "      <td>1.8</td>\n",
       "      <td>2.0</td>\n",
       "      <td>0.927242</td>\n",
       "      <td>0.4</td>\n",
       "      <td>0.7</td>\n",
       "      <td>1.1</td>\n",
       "      <td>1.167213</td>\n",
       "      <td>0.805684</td>\n",
       "      <td>0.350821</td>\n",
       "      <td>0.350821</td>\n",
       "      <td>0.057998</td>\n",
       "      <td>0.4</td>\n",
       "    </tr>\n",
       "    <tr>\n",
       "      <th>1</th>\n",
       "      <td>EEHEE_0001.pdb_hp</td>\n",
       "      <td>GSTTIEEAQNKKYQAEPRSWTKAGRTIGGKNWETEVNRAEASI</td>\n",
       "      <td>GGGSASHMGSTTIEEAQNKKYQAEPRSWTKAGRTIGGKNWETEVNR...</td>\n",
       "      <td>1.213600</td>\n",
       "      <td>5.5</td>\n",
       "      <td>0.8</td>\n",
       "      <td>6.3</td>\n",
       "      <td>1.272084</td>\n",
       "      <td>6.0</td>\n",
       "      <td>0.8</td>\n",
       "      <td>6.8</td>\n",
       "      <td>2.385720</td>\n",
       "      <td>1.898771</td>\n",
       "      <td>-0.559243</td>\n",
       "      <td>-0.559243</td>\n",
       "      <td>-0.559243</td>\n",
       "      <td>6.0</td>\n",
       "    </tr>\n",
       "    <tr>\n",
       "      <th>2</th>\n",
       "      <td>EEHEE_0001.pdb_random</td>\n",
       "      <td>GSRETKKITTVGARGEATAEQAATEEGPKNNSRISNYKEQWWI</td>\n",
       "      <td>GGGSASHMGSRETKKITTVGARGEATAEQAATEEGPKNNSRISNYK...</td>\n",
       "      <td>3.906570</td>\n",
       "      <td>0.2</td>\n",
       "      <td>3.8</td>\n",
       "      <td>4.0</td>\n",
       "      <td>4.357322</td>\n",
       "      <td>5.0</td>\n",
       "      <td>2.4</td>\n",
       "      <td>7.4</td>\n",
       "      <td>2.748009</td>\n",
       "      <td>1.442123</td>\n",
       "      <td>0.552774</td>\n",
       "      <td>0.552774</td>\n",
       "      <td>0.552774</td>\n",
       "      <td>5.0</td>\n",
       "    </tr>\n",
       "    <tr>\n",
       "      <th>3</th>\n",
       "      <td>EEHEE_0002.pdb</td>\n",
       "      <td>GSYELEVGNYRYRADDPEQLKEEAKKVGARDVQTDGNNFKVRG</td>\n",
       "      <td>GGGSASHMGSYELEVGNYRYRADDPEQLKEEAKKVGARDVQTDGNN...</td>\n",
       "      <td>0.178086</td>\n",
       "      <td>1.2</td>\n",
       "      <td>-0.5</td>\n",
       "      <td>0.7</td>\n",
       "      <td>1.084055</td>\n",
       "      <td>1.1</td>\n",
       "      <td>0.5</td>\n",
       "      <td>1.6</td>\n",
       "      <td>0.665333</td>\n",
       "      <td>-0.298336</td>\n",
       "      <td>-0.232476</td>\n",
       "      <td>-0.232476</td>\n",
       "      <td>-0.232476</td>\n",
       "      <td>1.2</td>\n",
       "    </tr>\n",
       "    <tr>\n",
       "      <th>4</th>\n",
       "      <td>EEHEE_0002.pdb_hp</td>\n",
       "      <td>GSYKGDLLYENREADNVYKATKRGRDPFGERGKEDVQNVEVQA</td>\n",
       "      <td>GGGSASHMGSYKGDLLYENREADNVYKATKRGRDPFGERGKEDVQN...</td>\n",
       "      <td>1.656384</td>\n",
       "      <td>0.7</td>\n",
       "      <td>1.4</td>\n",
       "      <td>2.1</td>\n",
       "      <td>0.064134</td>\n",
       "      <td>0.9</td>\n",
       "      <td>-0.5</td>\n",
       "      <td>0.4</td>\n",
       "      <td>1.413589</td>\n",
       "      <td>0.862263</td>\n",
       "      <td>0.115843</td>\n",
       "      <td>0.115843</td>\n",
       "      <td>-0.380805</td>\n",
       "      <td>0.9</td>\n",
       "    </tr>\n",
       "  </tbody>\n",
       "</table>\n",
       "</div>"
      ],
      "text/plain": [
       "                    name                                     sequence  \\\n",
       "0         EEHEE_0001.pdb  GSQEVNSGTQTYKNASPEEAERIARKAGATTWTEKGNKWEIRI   \n",
       "1      EEHEE_0001.pdb_hp  GSTTIEEAQNKKYQAEPRSWTKAGRTIGGKNWETEVNRAEASI   \n",
       "2  EEHEE_0001.pdb_random  GSRETKKITTVGARGEATAEQAATEEGPKNNSRISNYKEQWWI   \n",
       "3         EEHEE_0002.pdb  GSYELEVGNYRYRADDPEQLKEEAKKVGARDVQTDGNNFKVRG   \n",
       "4      EEHEE_0002.pdb_hp  GSYKGDLLYENREADNVYKATKRGRDPFGERGKEDVQNVEVQA   \n",
       "\n",
       "                                       full_sequence    ec50_t  ec50_95ci_t  \\\n",
       "0  GGGSASHMGSQEVNSGTQTYKNASPEEAERIARKAGATTWTEKGNK...  1.902499          0.2   \n",
       "1  GGGSASHMGSTTIEEAQNKKYQAEPRSWTKAGRTIGGKNWETEVNR...  1.213600          5.5   \n",
       "2  GGGSASHMGSRETKKITTVGARGEATAEQAATEEGPKNNSRISNYK...  3.906570          0.2   \n",
       "3  GGGSASHMGSYELEVGNYRYRADDPEQLKEEAKKVGARDVQTDGNN...  0.178086          1.2   \n",
       "4  GGGSASHMGSYKGDLLYENREADNVYKATKRGRDPFGERGKEDVQN...  1.656384          0.7   \n",
       "\n",
       "   ec50_95ci_lbound_t  ec50_95ci_ubound_t    ec50_c  ec50_95ci_c  \\\n",
       "0                 1.8                 2.0  0.927242          0.4   \n",
       "1                 0.8                 6.3  1.272084          6.0   \n",
       "2                 3.8                 4.0  4.357322          5.0   \n",
       "3                -0.5                 0.7  1.084055          1.1   \n",
       "4                 1.4                 2.1  0.064134          0.9   \n",
       "\n",
       "   ec50_95ci_lbound_c  ec50_95ci_ubound_c  ec50_pred_t  ec50_pred_c  \\\n",
       "0                 0.7                 1.1     1.167213     0.805684   \n",
       "1                 0.8                 6.8     2.385720     1.898771   \n",
       "2                 2.4                 7.4     2.748009     1.442123   \n",
       "3                 0.5                 1.6     0.665333    -0.298336   \n",
       "4                -0.5                 0.4     1.413589     0.862263   \n",
       "\n",
       "   ec50_rise_t  ec50_rise_t.1  min_ec50_rise  max_ec50_95ci  \n",
       "0     0.350821       0.350821       0.057998            0.4  \n",
       "1    -0.559243      -0.559243      -0.559243            6.0  \n",
       "2     0.552774       0.552774       0.552774            5.0  \n",
       "3    -0.232476      -0.232476      -0.232476            1.2  \n",
       "4     0.115843       0.115843      -0.380805            0.9  "
      ]
     },
     "execution_count": 25,
     "metadata": {},
     "output_type": "execute_result"
    }
   ],
   "source": [
    "rawdata = pd.read_csv('GJR_sequences.csv', header=0)\n",
    "rawdata.head()"
   ]
  },
  {
   "cell_type": "code",
   "execution_count": 26,
   "metadata": {
    "collapsed": false
   },
   "outputs": [
    {
     "data": {
      "text/plain": [
       "(48608, 17)"
      ]
     },
     "execution_count": 26,
     "metadata": {},
     "output_type": "execute_result"
    }
   ],
   "source": [
    "rawdata.shape"
   ]
  },
  {
   "cell_type": "code",
   "execution_count": 27,
   "metadata": {
    "collapsed": true
   },
   "outputs": [],
   "source": [
    "good_data = rawdata.loc[rawdata['max_ec50_95ci'] < 1]"
   ]
  },
  {
   "cell_type": "code",
   "execution_count": 28,
   "metadata": {
    "collapsed": false
   },
   "outputs": [
    {
     "data": {
      "text/plain": [
       "(39845, 17)"
      ]
     },
     "execution_count": 28,
     "metadata": {},
     "output_type": "execute_result"
    }
   ],
   "source": [
    "good_data.shape"
   ]
  },
  {
   "cell_type": "code",
   "execution_count": 29,
   "metadata": {
    "collapsed": false
   },
   "outputs": [
    {
     "name": "stdout",
     "output_type": "stream",
     "text": [
      "Hash of sequence lengths:  {66: 39845}\n"
     ]
    }
   ],
   "source": [
    "seqlengthHash = {}\n",
    "\n",
    "seqList = good_data['full_sequence'].tolist()\n",
    "for s in seqList:\n",
    "    if len(s) in seqlengthHash:\n",
    "        seqlengthHash[len(s)] = seqlengthHash[len(s)] + 1\n",
    "    else:\n",
    "        seqlengthHash[len(s)] = 1\n",
    "\n",
    "print \"Hash of sequence lengths: \", seqlengthHash"
   ]
  },
  {
   "cell_type": "code",
   "execution_count": 30,
   "metadata": {
    "collapsed": false
   },
   "outputs": [],
   "source": [
    "#df['sequence'] = good_data[['full_sequence']]\n",
    "#df = pd.DataFrame([good_data[['full_sequence']], good_data[['min_ec50_rise']]], columns=['sequence', 'output1'])\n",
    "\n",
    "df = good_data[['full_sequence', 'min_ec50_rise']].copy()"
   ]
  },
  {
   "cell_type": "code",
   "execution_count": 31,
   "metadata": {
    "collapsed": false
   },
   "outputs": [
    {
     "data": {
      "text/html": [
       "<div>\n",
       "<table border=\"1\" class=\"dataframe\">\n",
       "  <thead>\n",
       "    <tr style=\"text-align: right;\">\n",
       "      <th></th>\n",
       "      <th>full_sequence</th>\n",
       "      <th>min_ec50_rise</th>\n",
       "    </tr>\n",
       "  </thead>\n",
       "  <tbody>\n",
       "    <tr>\n",
       "      <th>0</th>\n",
       "      <td>GGGSASHMGSQEVNSGTQTYKNASPEEAERIARKAGATTWTEKGNK...</td>\n",
       "      <td>0.057998</td>\n",
       "    </tr>\n",
       "    <tr>\n",
       "      <th>4</th>\n",
       "      <td>GGGSASHMGSYKGDLLYENREADNVYKATKRGRDPFGERGKEDVQN...</td>\n",
       "      <td>-0.380805</td>\n",
       "    </tr>\n",
       "    <tr>\n",
       "      <th>5</th>\n",
       "      <td>GGGSASHMGSYAKDKEGLYDAGYGTRRPEVADRGNEEKVKLNVNEQ...</td>\n",
       "      <td>-0.105271</td>\n",
       "    </tr>\n",
       "    <tr>\n",
       "      <th>6</th>\n",
       "      <td>GGGSASHMGSWRVHFRGETYTADTEDDAKQLAKDAGARRIESSNGE...</td>\n",
       "      <td>0.052325</td>\n",
       "    </tr>\n",
       "    <tr>\n",
       "      <th>8</th>\n",
       "      <td>GGGSASHMGSEELTHNWDEEFAGVRQTGDSATRYGVAKAVKERDLA...</td>\n",
       "      <td>-0.752859</td>\n",
       "    </tr>\n",
       "  </tbody>\n",
       "</table>\n",
       "</div>"
      ],
      "text/plain": [
       "                                       full_sequence  min_ec50_rise\n",
       "0  GGGSASHMGSQEVNSGTQTYKNASPEEAERIARKAGATTWTEKGNK...       0.057998\n",
       "4  GGGSASHMGSYKGDLLYENREADNVYKATKRGRDPFGERGKEDVQN...      -0.380805\n",
       "5  GGGSASHMGSYAKDKEGLYDAGYGTRRPEVADRGNEEKVKLNVNEQ...      -0.105271\n",
       "6  GGGSASHMGSWRVHFRGETYTADTEDDAKQLAKDAGARRIESSNGE...       0.052325\n",
       "8  GGGSASHMGSEELTHNWDEEFAGVRQTGDSATRYGVAKAVKERDLA...      -0.752859"
      ]
     },
     "execution_count": 31,
     "metadata": {},
     "output_type": "execute_result"
    }
   ],
   "source": [
    "df.head()"
   ]
  },
  {
   "cell_type": "code",
   "execution_count": 32,
   "metadata": {
    "collapsed": false
   },
   "outputs": [],
   "source": [
    "df = df.reset_index()"
   ]
  },
  {
   "cell_type": "code",
   "execution_count": 33,
   "metadata": {
    "collapsed": false
   },
   "outputs": [
    {
     "data": {
      "text/html": [
       "<div>\n",
       "<table border=\"1\" class=\"dataframe\">\n",
       "  <thead>\n",
       "    <tr style=\"text-align: right;\">\n",
       "      <th></th>\n",
       "      <th>index</th>\n",
       "      <th>full_sequence</th>\n",
       "      <th>min_ec50_rise</th>\n",
       "    </tr>\n",
       "  </thead>\n",
       "  <tbody>\n",
       "    <tr>\n",
       "      <th>0</th>\n",
       "      <td>0</td>\n",
       "      <td>GGGSASHMGSQEVNSGTQTYKNASPEEAERIARKAGATTWTEKGNK...</td>\n",
       "      <td>0.057998</td>\n",
       "    </tr>\n",
       "    <tr>\n",
       "      <th>1</th>\n",
       "      <td>4</td>\n",
       "      <td>GGGSASHMGSYKGDLLYENREADNVYKATKRGRDPFGERGKEDVQN...</td>\n",
       "      <td>-0.380805</td>\n",
       "    </tr>\n",
       "    <tr>\n",
       "      <th>2</th>\n",
       "      <td>5</td>\n",
       "      <td>GGGSASHMGSYAKDKEGLYDAGYGTRRPEVADRGNEEKVKLNVNEQ...</td>\n",
       "      <td>-0.105271</td>\n",
       "    </tr>\n",
       "    <tr>\n",
       "      <th>3</th>\n",
       "      <td>6</td>\n",
       "      <td>GGGSASHMGSWRVHFRGETYTADTEDDAKQLAKDAGARRIESSNGE...</td>\n",
       "      <td>0.052325</td>\n",
       "    </tr>\n",
       "    <tr>\n",
       "      <th>4</th>\n",
       "      <td>8</td>\n",
       "      <td>GGGSASHMGSEELTHNWDEEFAGVRQTGDSATRYGVAKAVKERDLA...</td>\n",
       "      <td>-0.752859</td>\n",
       "    </tr>\n",
       "  </tbody>\n",
       "</table>\n",
       "</div>"
      ],
      "text/plain": [
       "   index                                      full_sequence  min_ec50_rise\n",
       "0      0  GGGSASHMGSQEVNSGTQTYKNASPEEAERIARKAGATTWTEKGNK...       0.057998\n",
       "1      4  GGGSASHMGSYKGDLLYENREADNVYKATKRGRDPFGERGKEDVQN...      -0.380805\n",
       "2      5  GGGSASHMGSYAKDKEGLYDAGYGTRRPEVADRGNEEKVKLNVNEQ...      -0.105271\n",
       "3      6  GGGSASHMGSWRVHFRGETYTADTEDDAKQLAKDAGARRIESSNGE...       0.052325\n",
       "4      8  GGGSASHMGSEELTHNWDEEFAGVRQTGDSATRYGVAKAVKERDLA...      -0.752859"
      ]
     },
     "execution_count": 33,
     "metadata": {},
     "output_type": "execute_result"
    }
   ],
   "source": [
    "df.head()"
   ]
  },
  {
   "cell_type": "code",
   "execution_count": 34,
   "metadata": {
    "collapsed": true
   },
   "outputs": [],
   "source": [
    "df = df.drop('index', axis=1)"
   ]
  },
  {
   "cell_type": "code",
   "execution_count": 35,
   "metadata": {
    "collapsed": false
   },
   "outputs": [
    {
     "data": {
      "text/html": [
       "<div>\n",
       "<table border=\"1\" class=\"dataframe\">\n",
       "  <thead>\n",
       "    <tr style=\"text-align: right;\">\n",
       "      <th></th>\n",
       "      <th>full_sequence</th>\n",
       "      <th>min_ec50_rise</th>\n",
       "    </tr>\n",
       "  </thead>\n",
       "  <tbody>\n",
       "    <tr>\n",
       "      <th>0</th>\n",
       "      <td>GGGSASHMGSQEVNSGTQTYKNASPEEAERIARKAGATTWTEKGNK...</td>\n",
       "      <td>0.057998</td>\n",
       "    </tr>\n",
       "    <tr>\n",
       "      <th>1</th>\n",
       "      <td>GGGSASHMGSYKGDLLYENREADNVYKATKRGRDPFGERGKEDVQN...</td>\n",
       "      <td>-0.380805</td>\n",
       "    </tr>\n",
       "    <tr>\n",
       "      <th>2</th>\n",
       "      <td>GGGSASHMGSYAKDKEGLYDAGYGTRRPEVADRGNEEKVKLNVNEQ...</td>\n",
       "      <td>-0.105271</td>\n",
       "    </tr>\n",
       "    <tr>\n",
       "      <th>3</th>\n",
       "      <td>GGGSASHMGSWRVHFRGETYTADTEDDAKQLAKDAGARRIESSNGE...</td>\n",
       "      <td>0.052325</td>\n",
       "    </tr>\n",
       "    <tr>\n",
       "      <th>4</th>\n",
       "      <td>GGGSASHMGSEELTHNWDEEFAGVRQTGDSATRYGVAKAVKERDLA...</td>\n",
       "      <td>-0.752859</td>\n",
       "    </tr>\n",
       "  </tbody>\n",
       "</table>\n",
       "</div>"
      ],
      "text/plain": [
       "                                       full_sequence  min_ec50_rise\n",
       "0  GGGSASHMGSQEVNSGTQTYKNASPEEAERIARKAGATTWTEKGNK...       0.057998\n",
       "1  GGGSASHMGSYKGDLLYENREADNVYKATKRGRDPFGERGKEDVQN...      -0.380805\n",
       "2  GGGSASHMGSYAKDKEGLYDAGYGTRRPEVADRGNEEKVKLNVNEQ...      -0.105271\n",
       "3  GGGSASHMGSWRVHFRGETYTADTEDDAKQLAKDAGARRIESSNGE...       0.052325\n",
       "4  GGGSASHMGSEELTHNWDEEFAGVRQTGDSATRYGVAKAVKERDLA...      -0.752859"
      ]
     },
     "execution_count": 35,
     "metadata": {},
     "output_type": "execute_result"
    }
   ],
   "source": [
    "df.head()"
   ]
  },
  {
   "cell_type": "code",
   "execution_count": 36,
   "metadata": {
    "collapsed": false
   },
   "outputs": [
    {
     "data": {
      "text/plain": [
       "(39845, 2)"
      ]
     },
     "execution_count": 36,
     "metadata": {},
     "output_type": "execute_result"
    }
   ],
   "source": [
    "df.shape"
   ]
  },
  {
   "cell_type": "code",
   "execution_count": 38,
   "metadata": {
    "collapsed": true
   },
   "outputs": [],
   "source": [
    "from pandas import ExcelWriter\n",
    "writer = ExcelWriter('GJR_cleaned_seq_only.xlsx')\n",
    "df.to_excel(writer,'Sheet1')\n",
    "writer.save()"
   ]
  },
  {
   "cell_type": "code",
   "execution_count": null,
   "metadata": {
    "collapsed": true
   },
   "outputs": [],
   "source": []
  }
 ],
 "metadata": {
  "kernelspec": {
   "display_name": "Python 2",
   "language": "python",
   "name": "python2"
  },
  "language_info": {
   "codemirror_mode": {
    "name": "ipython",
    "version": 2
   },
   "file_extension": ".py",
   "mimetype": "text/x-python",
   "name": "python",
   "nbconvert_exporter": "python",
   "pygments_lexer": "ipython2",
   "version": "2.7.11"
  }
 },
 "nbformat": 4,
 "nbformat_minor": 0
}
